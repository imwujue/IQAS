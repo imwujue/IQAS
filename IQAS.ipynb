{
 "cells": [
  {
   "cell_type": "markdown",
   "metadata": {},
   "source": [
    "## 将txt文件转换为csv文件"
   ]
  },
  {
   "cell_type": "code",
   "execution_count": null,
   "metadata": {},
   "outputs": [],
   "source": [
    "import numpy as np\n",
    "import pandas as pd\n",
    "import csv"
   ]
  },
  {
   "cell_type": "code",
   "execution_count": 2,
   "metadata": {},
   "outputs": [],
   "source": [
    "reader = open('./datasets/char_embed.txt')\n",
    "data1 = reader.readlines()\n",
    "with open(\"./datasets/char_embed.csv\",\"w\")as csvfile:\n",
    "    for row in data1:\n",
    "        row = row.split()\n",
    "        writer = csv.writer(csvfile)\n",
    "        writer.writerow(row)\n",
    "        \n",
    "reader = open('./datasets/word_embed.txt')\n",
    "data2 = reader.readlines()\n",
    "with open(\"./datasets/word_embed.csv\",\"w\")as csvfile:\n",
    "    for row in data2:\n",
    "        row = row.split()\n",
    "        writer = csv.writer(csvfile)\n",
    "        writer.writerow(row)"
   ]
  },
  {
   "cell_type": "markdown",
   "metadata": {},
   "source": [
    "## 读取csv文件，查看内容"
   ]
  },
  {
   "cell_type": "code",
   "execution_count": 178,
   "metadata": {},
   "outputs": [],
   "source": [
    "train_master = pd.read_csv('./datasets/train.csv',encoding='gbk')\n",
    "test_master = pd.read_csv('./datasets/test.csv',encoding='gbk')\n",
    "question = pd.read_csv('./datasets/question.csv',encoding='gbk')\n",
    "char_embed = pd.read_csv('./datasets/char_embed.csv',encoding='gbk',header=None)\n",
    "word_embed = pd.read_csv('./datasets/word_embed.csv',encoding='gbk',header=None)"
   ]
  },
  {
   "cell_type": "code",
   "execution_count": 4,
   "metadata": {},
   "outputs": [
    {
     "data": {
      "text/html": [
       "<div>\n",
       "<style scoped>\n",
       "    .dataframe tbody tr th:only-of-type {\n",
       "        vertical-align: middle;\n",
       "    }\n",
       "\n",
       "    .dataframe tbody tr th {\n",
       "        vertical-align: top;\n",
       "    }\n",
       "\n",
       "    .dataframe thead th {\n",
       "        text-align: right;\n",
       "    }\n",
       "</style>\n",
       "<table border=\"1\" class=\"dataframe\">\n",
       "  <thead>\n",
       "    <tr style=\"text-align: right;\">\n",
       "      <th></th>\n",
       "      <th>label</th>\n",
       "      <th>q1</th>\n",
       "      <th>q2</th>\n",
       "    </tr>\n",
       "  </thead>\n",
       "  <tbody>\n",
       "    <tr>\n",
       "      <th>0</th>\n",
       "      <td>1</td>\n",
       "      <td>Q397345</td>\n",
       "      <td>Q538594</td>\n",
       "    </tr>\n",
       "    <tr>\n",
       "      <th>1</th>\n",
       "      <td>0</td>\n",
       "      <td>Q193805</td>\n",
       "      <td>Q699273</td>\n",
       "    </tr>\n",
       "    <tr>\n",
       "      <th>2</th>\n",
       "      <td>0</td>\n",
       "      <td>Q085471</td>\n",
       "      <td>Q676160</td>\n",
       "    </tr>\n",
       "    <tr>\n",
       "      <th>3</th>\n",
       "      <td>0</td>\n",
       "      <td>Q189314</td>\n",
       "      <td>Q438123</td>\n",
       "    </tr>\n",
       "    <tr>\n",
       "      <th>4</th>\n",
       "      <td>0</td>\n",
       "      <td>Q267714</td>\n",
       "      <td>Q290126</td>\n",
       "    </tr>\n",
       "  </tbody>\n",
       "</table>\n",
       "</div>"
      ],
      "text/plain": [
       "   label       q1       q2\n",
       "0      1  Q397345  Q538594\n",
       "1      0  Q193805  Q699273\n",
       "2      0  Q085471  Q676160\n",
       "3      0  Q189314  Q438123\n",
       "4      0  Q267714  Q290126"
      ]
     },
     "execution_count": 4,
     "metadata": {},
     "output_type": "execute_result"
    }
   ],
   "source": [
    "train_master.head(5)"
   ]
  },
  {
   "cell_type": "code",
   "execution_count": 5,
   "metadata": {},
   "outputs": [
    {
     "data": {
      "text/html": [
       "<div>\n",
       "<style scoped>\n",
       "    .dataframe tbody tr th:only-of-type {\n",
       "        vertical-align: middle;\n",
       "    }\n",
       "\n",
       "    .dataframe tbody tr th {\n",
       "        vertical-align: top;\n",
       "    }\n",
       "\n",
       "    .dataframe thead th {\n",
       "        text-align: right;\n",
       "    }\n",
       "</style>\n",
       "<table border=\"1\" class=\"dataframe\">\n",
       "  <thead>\n",
       "    <tr style=\"text-align: right;\">\n",
       "      <th></th>\n",
       "      <th>q1</th>\n",
       "      <th>q2</th>\n",
       "    </tr>\n",
       "  </thead>\n",
       "  <tbody>\n",
       "    <tr>\n",
       "      <th>0</th>\n",
       "      <td>Q017571</td>\n",
       "      <td>Q006012</td>\n",
       "    </tr>\n",
       "    <tr>\n",
       "      <th>1</th>\n",
       "      <td>Q728241</td>\n",
       "      <td>Q542572</td>\n",
       "    </tr>\n",
       "    <tr>\n",
       "      <th>2</th>\n",
       "      <td>Q166997</td>\n",
       "      <td>Q118270</td>\n",
       "    </tr>\n",
       "    <tr>\n",
       "      <th>3</th>\n",
       "      <td>Q422420</td>\n",
       "      <td>Q514386</td>\n",
       "    </tr>\n",
       "    <tr>\n",
       "      <th>4</th>\n",
       "      <td>Q354329</td>\n",
       "      <td>Q032485</td>\n",
       "    </tr>\n",
       "  </tbody>\n",
       "</table>\n",
       "</div>"
      ],
      "text/plain": [
       "        q1       q2\n",
       "0  Q017571  Q006012\n",
       "1  Q728241  Q542572\n",
       "2  Q166997  Q118270\n",
       "3  Q422420  Q514386\n",
       "4  Q354329  Q032485"
      ]
     },
     "execution_count": 5,
     "metadata": {},
     "output_type": "execute_result"
    }
   ],
   "source": [
    "test_master.head(5)"
   ]
  },
  {
   "cell_type": "code",
   "execution_count": 6,
   "metadata": {},
   "outputs": [
    {
     "data": {
      "text/html": [
       "<div>\n",
       "<style scoped>\n",
       "    .dataframe tbody tr th:only-of-type {\n",
       "        vertical-align: middle;\n",
       "    }\n",
       "\n",
       "    .dataframe tbody tr th {\n",
       "        vertical-align: top;\n",
       "    }\n",
       "\n",
       "    .dataframe thead th {\n",
       "        text-align: right;\n",
       "    }\n",
       "</style>\n",
       "<table border=\"1\" class=\"dataframe\">\n",
       "  <thead>\n",
       "    <tr style=\"text-align: right;\">\n",
       "      <th></th>\n",
       "      <th>qid</th>\n",
       "      <th>words</th>\n",
       "      <th>chars</th>\n",
       "    </tr>\n",
       "  </thead>\n",
       "  <tbody>\n",
       "    <tr>\n",
       "      <th>0</th>\n",
       "      <td>Q000000</td>\n",
       "      <td>W05733 W05284 W09158 W14968 W07863</td>\n",
       "      <td>L1128 L1861 L2218 L1796 L1055 L0847 L2927</td>\n",
       "    </tr>\n",
       "    <tr>\n",
       "      <th>1</th>\n",
       "      <td>Q000001</td>\n",
       "      <td>W17378 W17534 W03249 W01490 W18802</td>\n",
       "      <td>L2214 L1980 L0156 L1554 L2218 L1861 L3019 L010...</td>\n",
       "    </tr>\n",
       "    <tr>\n",
       "      <th>2</th>\n",
       "      <td>Q000002</td>\n",
       "      <td>W17378 W08158 W20171 W11246 W14759</td>\n",
       "      <td>L2214 L2350 L2568 L1969 L2168 L0694 L3012 L256...</td>\n",
       "    </tr>\n",
       "    <tr>\n",
       "      <th>3</th>\n",
       "      <td>Q000003</td>\n",
       "      <td>W11385 W14103 W02556 W13157 W09749</td>\n",
       "      <td>L0762 L2172 L1971 L2034 L2039 L2271 L1346 L223...</td>\n",
       "    </tr>\n",
       "    <tr>\n",
       "      <th>4</th>\n",
       "      <td>Q000004</td>\n",
       "      <td>W17508 W18238 W02952 W18103</td>\n",
       "      <td>L0018 L2321 L1346 L3019 L0104 L0902 L0354 L0362</td>\n",
       "    </tr>\n",
       "  </tbody>\n",
       "</table>\n",
       "</div>"
      ],
      "text/plain": [
       "       qid                               words  \\\n",
       "0  Q000000  W05733 W05284 W09158 W14968 W07863   \n",
       "1  Q000001  W17378 W17534 W03249 W01490 W18802   \n",
       "2  Q000002  W17378 W08158 W20171 W11246 W14759   \n",
       "3  Q000003  W11385 W14103 W02556 W13157 W09749   \n",
       "4  Q000004         W17508 W18238 W02952 W18103   \n",
       "\n",
       "                                               chars  \n",
       "0          L1128 L1861 L2218 L1796 L1055 L0847 L2927  \n",
       "1  L2214 L1980 L0156 L1554 L2218 L1861 L3019 L010...  \n",
       "2  L2214 L2350 L2568 L1969 L2168 L0694 L3012 L256...  \n",
       "3  L0762 L2172 L1971 L2034 L2039 L2271 L1346 L223...  \n",
       "4    L0018 L2321 L1346 L3019 L0104 L0902 L0354 L0362  "
      ]
     },
     "execution_count": 6,
     "metadata": {},
     "output_type": "execute_result"
    }
   ],
   "source": [
    "question.head(5)"
   ]
  },
  {
   "cell_type": "code",
   "execution_count": 177,
   "metadata": {},
   "outputs": [
    {
     "data": {
      "text/html": [
       "<div>\n",
       "<style scoped>\n",
       "    .dataframe tbody tr th:only-of-type {\n",
       "        vertical-align: middle;\n",
       "    }\n",
       "\n",
       "    .dataframe tbody tr th {\n",
       "        vertical-align: top;\n",
       "    }\n",
       "\n",
       "    .dataframe thead th {\n",
       "        text-align: right;\n",
       "    }\n",
       "</style>\n",
       "<table border=\"1\" class=\"dataframe\">\n",
       "  <thead>\n",
       "    <tr style=\"text-align: right;\">\n",
       "      <th></th>\n",
       "      <th>0</th>\n",
       "      <th>1</th>\n",
       "      <th>2</th>\n",
       "      <th>3</th>\n",
       "      <th>4</th>\n",
       "      <th>5</th>\n",
       "      <th>6</th>\n",
       "      <th>7</th>\n",
       "      <th>8</th>\n",
       "      <th>9</th>\n",
       "      <th>...</th>\n",
       "      <th>291</th>\n",
       "      <th>292</th>\n",
       "      <th>293</th>\n",
       "      <th>294</th>\n",
       "      <th>295</th>\n",
       "      <th>296</th>\n",
       "      <th>297</th>\n",
       "      <th>298</th>\n",
       "      <th>299</th>\n",
       "      <th>300</th>\n",
       "    </tr>\n",
       "  </thead>\n",
       "  <tbody>\n",
       "    <tr>\n",
       "      <th>0</th>\n",
       "      <td>L0000</td>\n",
       "      <td>-0.546460</td>\n",
       "      <td>2.285091</td>\n",
       "      <td>-3.084309</td>\n",
       "      <td>1.064661</td>\n",
       "      <td>-2.090880</td>\n",
       "      <td>0.651496</td>\n",
       "      <td>-2.429877</td>\n",
       "      <td>-2.262385</td>\n",
       "      <td>-1.981884</td>\n",
       "      <td>...</td>\n",
       "      <td>0.207397</td>\n",
       "      <td>1.476373</td>\n",
       "      <td>0.863744</td>\n",
       "      <td>-0.341826</td>\n",
       "      <td>0.433234</td>\n",
       "      <td>-0.730324</td>\n",
       "      <td>0.215955</td>\n",
       "      <td>-0.528452</td>\n",
       "      <td>-0.340528</td>\n",
       "      <td>-2.018747</td>\n",
       "    </tr>\n",
       "    <tr>\n",
       "      <th>1</th>\n",
       "      <td>L0001</td>\n",
       "      <td>-9.016356</td>\n",
       "      <td>-3.801084</td>\n",
       "      <td>-7.210567</td>\n",
       "      <td>3.052900</td>\n",
       "      <td>-1.340958</td>\n",
       "      <td>1.395385</td>\n",
       "      <td>-5.482922</td>\n",
       "      <td>-7.407759</td>\n",
       "      <td>-3.611857</td>\n",
       "      <td>...</td>\n",
       "      <td>-0.818142</td>\n",
       "      <td>4.968217</td>\n",
       "      <td>-4.254042</td>\n",
       "      <td>-0.709047</td>\n",
       "      <td>1.288105</td>\n",
       "      <td>-1.222849</td>\n",
       "      <td>-5.521402</td>\n",
       "      <td>-2.653049</td>\n",
       "      <td>1.868731</td>\n",
       "      <td>2.147064</td>\n",
       "    </tr>\n",
       "    <tr>\n",
       "      <th>2</th>\n",
       "      <td>L0002</td>\n",
       "      <td>-0.138824</td>\n",
       "      <td>0.219148</td>\n",
       "      <td>-0.890053</td>\n",
       "      <td>0.106301</td>\n",
       "      <td>-0.494364</td>\n",
       "      <td>0.550745</td>\n",
       "      <td>-0.279467</td>\n",
       "      <td>-0.048898</td>\n",
       "      <td>-0.021813</td>\n",
       "      <td>...</td>\n",
       "      <td>0.247383</td>\n",
       "      <td>0.576698</td>\n",
       "      <td>1.261507</td>\n",
       "      <td>0.446992</td>\n",
       "      <td>-0.418965</td>\n",
       "      <td>-0.278471</td>\n",
       "      <td>1.426156</td>\n",
       "      <td>-0.579678</td>\n",
       "      <td>-0.322354</td>\n",
       "      <td>-0.661302</td>\n",
       "    </tr>\n",
       "    <tr>\n",
       "      <th>3</th>\n",
       "      <td>L0003</td>\n",
       "      <td>-0.265548</td>\n",
       "      <td>0.465279</td>\n",
       "      <td>-0.611959</td>\n",
       "      <td>0.356313</td>\n",
       "      <td>-0.533891</td>\n",
       "      <td>0.196803</td>\n",
       "      <td>-0.376730</td>\n",
       "      <td>-0.316881</td>\n",
       "      <td>-0.516114</td>\n",
       "      <td>...</td>\n",
       "      <td>0.136175</td>\n",
       "      <td>0.952863</td>\n",
       "      <td>0.902963</td>\n",
       "      <td>-0.630882</td>\n",
       "      <td>0.153895</td>\n",
       "      <td>-0.260504</td>\n",
       "      <td>0.665082</td>\n",
       "      <td>0.126045</td>\n",
       "      <td>-0.281423</td>\n",
       "      <td>-0.155615</td>\n",
       "    </tr>\n",
       "    <tr>\n",
       "      <th>4</th>\n",
       "      <td>L0004</td>\n",
       "      <td>0.099463</td>\n",
       "      <td>-3.760915</td>\n",
       "      <td>0.462665</td>\n",
       "      <td>-3.754872</td>\n",
       "      <td>11.792088</td>\n",
       "      <td>7.473687</td>\n",
       "      <td>-3.999821</td>\n",
       "      <td>-0.934766</td>\n",
       "      <td>1.401825</td>\n",
       "      <td>...</td>\n",
       "      <td>7.900008</td>\n",
       "      <td>0.938448</td>\n",
       "      <td>9.856948</td>\n",
       "      <td>2.781040</td>\n",
       "      <td>-3.262262</td>\n",
       "      <td>-2.092505</td>\n",
       "      <td>3.462315</td>\n",
       "      <td>-0.904220</td>\n",
       "      <td>1.935117</td>\n",
       "      <td>3.409496</td>\n",
       "    </tr>\n",
       "  </tbody>\n",
       "</table>\n",
       "<p>5 rows × 301 columns</p>\n",
       "</div>"
      ],
      "text/plain": [
       "     0         1         2         3         4          5         6    \\\n",
       "0  L0000 -0.546460  2.285091 -3.084309  1.064661  -2.090880  0.651496   \n",
       "1  L0001 -9.016356 -3.801084 -7.210567  3.052900  -1.340958  1.395385   \n",
       "2  L0002 -0.138824  0.219148 -0.890053  0.106301  -0.494364  0.550745   \n",
       "3  L0003 -0.265548  0.465279 -0.611959  0.356313  -0.533891  0.196803   \n",
       "4  L0004  0.099463 -3.760915  0.462665 -3.754872  11.792088  7.473687   \n",
       "\n",
       "        7         8         9      ...          291       292       293  \\\n",
       "0 -2.429877 -2.262385 -1.981884    ...     0.207397  1.476373  0.863744   \n",
       "1 -5.482922 -7.407759 -3.611857    ...    -0.818142  4.968217 -4.254042   \n",
       "2 -0.279467 -0.048898 -0.021813    ...     0.247383  0.576698  1.261507   \n",
       "3 -0.376730 -0.316881 -0.516114    ...     0.136175  0.952863  0.902963   \n",
       "4 -3.999821 -0.934766  1.401825    ...     7.900008  0.938448  9.856948   \n",
       "\n",
       "        294       295       296       297       298       299       300  \n",
       "0 -0.341826  0.433234 -0.730324  0.215955 -0.528452 -0.340528 -2.018747  \n",
       "1 -0.709047  1.288105 -1.222849 -5.521402 -2.653049  1.868731  2.147064  \n",
       "2  0.446992 -0.418965 -0.278471  1.426156 -0.579678 -0.322354 -0.661302  \n",
       "3 -0.630882  0.153895 -0.260504  0.665082  0.126045 -0.281423 -0.155615  \n",
       "4  2.781040 -3.262262 -2.092505  3.462315 -0.904220  1.935117  3.409496  \n",
       "\n",
       "[5 rows x 301 columns]"
      ]
     },
     "execution_count": 177,
     "metadata": {},
     "output_type": "execute_result"
    }
   ],
   "source": [
    "char_embed.head(5)"
   ]
  },
  {
   "cell_type": "code",
   "execution_count": 179,
   "metadata": {},
   "outputs": [
    {
     "data": {
      "text/html": [
       "<div>\n",
       "<style scoped>\n",
       "    .dataframe tbody tr th:only-of-type {\n",
       "        vertical-align: middle;\n",
       "    }\n",
       "\n",
       "    .dataframe tbody tr th {\n",
       "        vertical-align: top;\n",
       "    }\n",
       "\n",
       "    .dataframe thead th {\n",
       "        text-align: right;\n",
       "    }\n",
       "</style>\n",
       "<table border=\"1\" class=\"dataframe\">\n",
       "  <thead>\n",
       "    <tr style=\"text-align: right;\">\n",
       "      <th></th>\n",
       "      <th>0</th>\n",
       "      <th>1</th>\n",
       "      <th>2</th>\n",
       "      <th>3</th>\n",
       "      <th>4</th>\n",
       "      <th>5</th>\n",
       "      <th>6</th>\n",
       "      <th>7</th>\n",
       "      <th>8</th>\n",
       "      <th>9</th>\n",
       "      <th>...</th>\n",
       "      <th>291</th>\n",
       "      <th>292</th>\n",
       "      <th>293</th>\n",
       "      <th>294</th>\n",
       "      <th>295</th>\n",
       "      <th>296</th>\n",
       "      <th>297</th>\n",
       "      <th>298</th>\n",
       "      <th>299</th>\n",
       "      <th>300</th>\n",
       "    </tr>\n",
       "  </thead>\n",
       "  <tbody>\n",
       "    <tr>\n",
       "      <th>0</th>\n",
       "      <td>W00000</td>\n",
       "      <td>0.169316</td>\n",
       "      <td>-0.063898</td>\n",
       "      <td>0.115286</td>\n",
       "      <td>-0.077671</td>\n",
       "      <td>0.067184</td>\n",
       "      <td>0.019339</td>\n",
       "      <td>0.039596</td>\n",
       "      <td>-0.026229</td>\n",
       "      <td>-0.160078</td>\n",
       "      <td>...</td>\n",
       "      <td>0.061151</td>\n",
       "      <td>0.044519</td>\n",
       "      <td>-0.194827</td>\n",
       "      <td>0.122456</td>\n",
       "      <td>0.122785</td>\n",
       "      <td>-0.154153</td>\n",
       "      <td>-0.116578</td>\n",
       "      <td>-0.127786</td>\n",
       "      <td>0.110593</td>\n",
       "      <td>-0.171084</td>\n",
       "    </tr>\n",
       "    <tr>\n",
       "      <th>1</th>\n",
       "      <td>W00001</td>\n",
       "      <td>1.548212</td>\n",
       "      <td>-1.052776</td>\n",
       "      <td>1.192632</td>\n",
       "      <td>0.760363</td>\n",
       "      <td>1.594398</td>\n",
       "      <td>1.478917</td>\n",
       "      <td>-1.555349</td>\n",
       "      <td>0.401968</td>\n",
       "      <td>1.588316</td>\n",
       "      <td>...</td>\n",
       "      <td>-1.898932</td>\n",
       "      <td>0.129864</td>\n",
       "      <td>-2.062325</td>\n",
       "      <td>0.068316</td>\n",
       "      <td>0.540282</td>\n",
       "      <td>-1.682620</td>\n",
       "      <td>-0.816290</td>\n",
       "      <td>-1.464458</td>\n",
       "      <td>-0.361792</td>\n",
       "      <td>0.943322</td>\n",
       "    </tr>\n",
       "    <tr>\n",
       "      <th>2</th>\n",
       "      <td>W00002</td>\n",
       "      <td>0.934084</td>\n",
       "      <td>0.106135</td>\n",
       "      <td>-0.391749</td>\n",
       "      <td>-0.209661</td>\n",
       "      <td>-0.558696</td>\n",
       "      <td>-0.942362</td>\n",
       "      <td>-0.274353</td>\n",
       "      <td>-0.232077</td>\n",
       "      <td>-1.024267</td>\n",
       "      <td>...</td>\n",
       "      <td>-0.357264</td>\n",
       "      <td>-0.451105</td>\n",
       "      <td>-0.724659</td>\n",
       "      <td>0.525233</td>\n",
       "      <td>0.290343</td>\n",
       "      <td>0.357838</td>\n",
       "      <td>-0.042750</td>\n",
       "      <td>1.315442</td>\n",
       "      <td>-0.167775</td>\n",
       "      <td>-0.393665</td>\n",
       "    </tr>\n",
       "    <tr>\n",
       "      <th>3</th>\n",
       "      <td>W00003</td>\n",
       "      <td>-1.407966</td>\n",
       "      <td>0.034697</td>\n",
       "      <td>-2.333980</td>\n",
       "      <td>1.991531</td>\n",
       "      <td>-0.073803</td>\n",
       "      <td>-0.966899</td>\n",
       "      <td>-0.926573</td>\n",
       "      <td>-2.161519</td>\n",
       "      <td>0.961513</td>\n",
       "      <td>...</td>\n",
       "      <td>0.547399</td>\n",
       "      <td>1.300992</td>\n",
       "      <td>1.893234</td>\n",
       "      <td>0.833304</td>\n",
       "      <td>-0.531153</td>\n",
       "      <td>1.249110</td>\n",
       "      <td>-0.959852</td>\n",
       "      <td>2.486905</td>\n",
       "      <td>0.925652</td>\n",
       "      <td>-0.676427</td>\n",
       "    </tr>\n",
       "    <tr>\n",
       "      <th>4</th>\n",
       "      <td>W00004</td>\n",
       "      <td>-0.213362</td>\n",
       "      <td>0.478031</td>\n",
       "      <td>0.033140</td>\n",
       "      <td>-0.096893</td>\n",
       "      <td>0.077964</td>\n",
       "      <td>-0.149793</td>\n",
       "      <td>-0.163284</td>\n",
       "      <td>0.470706</td>\n",
       "      <td>0.138422</td>\n",
       "      <td>...</td>\n",
       "      <td>-0.185111</td>\n",
       "      <td>-0.171314</td>\n",
       "      <td>0.166296</td>\n",
       "      <td>0.291282</td>\n",
       "      <td>-0.202618</td>\n",
       "      <td>0.192025</td>\n",
       "      <td>-0.145072</td>\n",
       "      <td>0.151652</td>\n",
       "      <td>0.353130</td>\n",
       "      <td>-0.073013</td>\n",
       "    </tr>\n",
       "  </tbody>\n",
       "</table>\n",
       "<p>5 rows × 301 columns</p>\n",
       "</div>"
      ],
      "text/plain": [
       "      0         1         2         3         4         5         6    \\\n",
       "0  W00000  0.169316 -0.063898  0.115286 -0.077671  0.067184  0.019339   \n",
       "1  W00001  1.548212 -1.052776  1.192632  0.760363  1.594398  1.478917   \n",
       "2  W00002  0.934084  0.106135 -0.391749 -0.209661 -0.558696 -0.942362   \n",
       "3  W00003 -1.407966  0.034697 -2.333980  1.991531 -0.073803 -0.966899   \n",
       "4  W00004 -0.213362  0.478031  0.033140 -0.096893  0.077964 -0.149793   \n",
       "\n",
       "        7         8         9      ...          291       292       293  \\\n",
       "0  0.039596 -0.026229 -0.160078    ...     0.061151  0.044519 -0.194827   \n",
       "1 -1.555349  0.401968  1.588316    ...    -1.898932  0.129864 -2.062325   \n",
       "2 -0.274353 -0.232077 -1.024267    ...    -0.357264 -0.451105 -0.724659   \n",
       "3 -0.926573 -2.161519  0.961513    ...     0.547399  1.300992  1.893234   \n",
       "4 -0.163284  0.470706  0.138422    ...    -0.185111 -0.171314  0.166296   \n",
       "\n",
       "        294       295       296       297       298       299       300  \n",
       "0  0.122456  0.122785 -0.154153 -0.116578 -0.127786  0.110593 -0.171084  \n",
       "1  0.068316  0.540282 -1.682620 -0.816290 -1.464458 -0.361792  0.943322  \n",
       "2  0.525233  0.290343  0.357838 -0.042750  1.315442 -0.167775 -0.393665  \n",
       "3  0.833304 -0.531153  1.249110 -0.959852  2.486905  0.925652 -0.676427  \n",
       "4  0.291282 -0.202618  0.192025 -0.145072  0.151652  0.353130 -0.073013  \n",
       "\n",
       "[5 rows x 301 columns]"
      ]
     },
     "execution_count": 179,
     "metadata": {},
     "output_type": "execute_result"
    }
   ],
   "source": [
    "word_embed.head(5)"
   ]
  },
  {
   "cell_type": "markdown",
   "metadata": {},
   "source": [
    "## 数据清洗"
   ]
  },
  {
   "cell_type": "code",
   "execution_count": 13,
   "metadata": {},
   "outputs": [
    {
     "name": "stdout",
     "output_type": "stream",
     "text": [
      "label    0\n",
      "q1       0\n",
      "q2       0\n",
      "dtype: int64\n",
      "q1    0\n",
      "q2    0\n",
      "dtype: int64\n",
      "qid      0\n",
      "words    0\n",
      "chars    0\n",
      "dtype: int64\n"
     ]
    }
   ],
   "source": [
    "train_sum = train_master.isnull().sum()\n",
    "print(train_sum)\n",
    "test_sum = test_master.isnull().sum()\n",
    "print(test_sum)\n",
    "question_sum = question.isnull().sum()\n",
    "print(question_sum)"
   ]
  },
  {
   "cell_type": "code",
   "execution_count": 17,
   "metadata": {},
   "outputs": [
    {
     "data": {
      "text/plain": [
       "(254386, 3)"
      ]
     },
     "execution_count": 17,
     "metadata": {},
     "output_type": "execute_result"
    }
   ],
   "source": [
    "train_master.shape"
   ]
  },
  {
   "cell_type": "markdown",
   "metadata": {},
   "source": [
    "## 数据预处理"
   ]
  },
  {
   "cell_type": "code",
   "execution_count": 136,
   "metadata": {},
   "outputs": [],
   "source": [
    "train = pd.DataFrame(train_master)\n",
    "test = pd.DataFrame(test_master)"
   ]
  },
  {
   "cell_type": "code",
   "execution_count": 137,
   "metadata": {},
   "outputs": [],
   "source": [
    "train = pd.merge(train, question, left_on = ['q1'], right_on = ['qid'], how = 'left')\n",
    "train = pd.merge(train, question, left_on = ['q2'], right_on = ['qid'], how = 'left')\n",
    "test = pd.merge(test, question, left_on = ['q1'], right_on = ['qid'], how = 'left')\n",
    "test = pd.merge(test, question, left_on = ['q2'], right_on = ['qid'], how = 'left')"
   ]
  },
  {
   "cell_type": "code",
   "execution_count": 142,
   "metadata": {},
   "outputs": [
    {
     "data": {
      "text/html": [
       "<div>\n",
       "<style scoped>\n",
       "    .dataframe tbody tr th:only-of-type {\n",
       "        vertical-align: middle;\n",
       "    }\n",
       "\n",
       "    .dataframe tbody tr th {\n",
       "        vertical-align: top;\n",
       "    }\n",
       "\n",
       "    .dataframe thead th {\n",
       "        text-align: right;\n",
       "    }\n",
       "</style>\n",
       "<table border=\"1\" class=\"dataframe\">\n",
       "  <thead>\n",
       "    <tr style=\"text-align: right;\">\n",
       "      <th></th>\n",
       "      <th>label</th>\n",
       "      <th>q1</th>\n",
       "      <th>q2</th>\n",
       "      <th>qid_x</th>\n",
       "      <th>words_x</th>\n",
       "      <th>chars_x</th>\n",
       "      <th>qid_y</th>\n",
       "      <th>words_y</th>\n",
       "      <th>chars_y</th>\n",
       "    </tr>\n",
       "  </thead>\n",
       "  <tbody>\n",
       "    <tr>\n",
       "      <th>0</th>\n",
       "      <td>1</td>\n",
       "      <td>Q397345</td>\n",
       "      <td>Q538594</td>\n",
       "      <td>Q397345</td>\n",
       "      <td>W04465 W04058 W05284 W02916</td>\n",
       "      <td>L2218 L2568 L0360 L0242 L2218 L0741</td>\n",
       "      <td>Q538594</td>\n",
       "      <td>W18238 W18843 W01490 W09905</td>\n",
       "      <td>L3019 L0104 L0582 L2218 L1861 L1556 L0242</td>\n",
       "    </tr>\n",
       "  </tbody>\n",
       "</table>\n",
       "</div>"
      ],
      "text/plain": [
       "   label       q1       q2    qid_x                      words_x  \\\n",
       "0      1  Q397345  Q538594  Q397345  W04465 W04058 W05284 W02916   \n",
       "\n",
       "                               chars_x    qid_y                      words_y  \\\n",
       "0  L2218 L2568 L0360 L0242 L2218 L0741  Q538594  W18238 W18843 W01490 W09905   \n",
       "\n",
       "                                     chars_y  \n",
       "0  L3019 L0104 L0582 L2218 L1861 L1556 L0242  "
      ]
     },
     "execution_count": 142,
     "metadata": {},
     "output_type": "execute_result"
    }
   ],
   "source": [
    "train.head(1)"
   ]
  },
  {
   "cell_type": "code",
   "execution_count": 143,
   "metadata": {},
   "outputs": [
    {
     "data": {
      "text/html": [
       "<div>\n",
       "<style scoped>\n",
       "    .dataframe tbody tr th:only-of-type {\n",
       "        vertical-align: middle;\n",
       "    }\n",
       "\n",
       "    .dataframe tbody tr th {\n",
       "        vertical-align: top;\n",
       "    }\n",
       "\n",
       "    .dataframe thead th {\n",
       "        text-align: right;\n",
       "    }\n",
       "</style>\n",
       "<table border=\"1\" class=\"dataframe\">\n",
       "  <thead>\n",
       "    <tr style=\"text-align: right;\">\n",
       "      <th></th>\n",
       "      <th>q1</th>\n",
       "      <th>q2</th>\n",
       "      <th>qid_x</th>\n",
       "      <th>words_x</th>\n",
       "      <th>chars_x</th>\n",
       "      <th>qid_y</th>\n",
       "      <th>words_y</th>\n",
       "      <th>chars_y</th>\n",
       "    </tr>\n",
       "  </thead>\n",
       "  <tbody>\n",
       "    <tr>\n",
       "      <th>0</th>\n",
       "      <td>Q017571</td>\n",
       "      <td>Q006012</td>\n",
       "      <td>Q017571</td>\n",
       "      <td>W17342 W06766 W04049 W16319 W07863</td>\n",
       "      <td>L0358 L0143 L0942 L1872 L1236 L3046 L0055 L258...</td>\n",
       "      <td>Q006012</td>\n",
       "      <td>W11668 W17378 W11399 W14113</td>\n",
       "      <td>L1791 L2214 L1872 L1236 L0947 L2323</td>\n",
       "    </tr>\n",
       "  </tbody>\n",
       "</table>\n",
       "</div>"
      ],
      "text/plain": [
       "        q1       q2    qid_x                             words_x  \\\n",
       "0  Q017571  Q006012  Q017571  W17342 W06766 W04049 W16319 W07863   \n",
       "\n",
       "                                             chars_x    qid_y  \\\n",
       "0  L0358 L0143 L0942 L1872 L1236 L3046 L0055 L258...  Q006012   \n",
       "\n",
       "                       words_y                              chars_y  \n",
       "0  W11668 W17378 W11399 W14113  L1791 L2214 L1872 L1236 L0947 L2323  "
      ]
     },
     "execution_count": 143,
     "metadata": {},
     "output_type": "execute_result"
    }
   ],
   "source": [
    "test.head(1)"
   ]
  },
  {
   "cell_type": "code",
   "execution_count": 144,
   "metadata": {},
   "outputs": [],
   "source": [
    "train = train[['label', 'words_x','words_y']]\n",
    "train.columns = ['label', 'q1', 'q2']\n",
    "test = test[['words_x','words_y']]\n",
    "test.columns = ['q1', 'q2']"
   ]
  },
  {
   "cell_type": "code",
   "execution_count": 145,
   "metadata": {},
   "outputs": [
    {
     "data": {
      "text/html": [
       "<div>\n",
       "<style scoped>\n",
       "    .dataframe tbody tr th:only-of-type {\n",
       "        vertical-align: middle;\n",
       "    }\n",
       "\n",
       "    .dataframe tbody tr th {\n",
       "        vertical-align: top;\n",
       "    }\n",
       "\n",
       "    .dataframe thead th {\n",
       "        text-align: right;\n",
       "    }\n",
       "</style>\n",
       "<table border=\"1\" class=\"dataframe\">\n",
       "  <thead>\n",
       "    <tr style=\"text-align: right;\">\n",
       "      <th></th>\n",
       "      <th>label</th>\n",
       "      <th>q1</th>\n",
       "      <th>q2</th>\n",
       "    </tr>\n",
       "  </thead>\n",
       "  <tbody>\n",
       "    <tr>\n",
       "      <th>0</th>\n",
       "      <td>1</td>\n",
       "      <td>W04465 W04058 W05284 W02916</td>\n",
       "      <td>W18238 W18843 W01490 W09905</td>\n",
       "    </tr>\n",
       "  </tbody>\n",
       "</table>\n",
       "</div>"
      ],
      "text/plain": [
       "   label                           q1                           q2\n",
       "0      1  W04465 W04058 W05284 W02916  W18238 W18843 W01490 W09905"
      ]
     },
     "execution_count": 145,
     "metadata": {},
     "output_type": "execute_result"
    }
   ],
   "source": [
    "train.head(1)"
   ]
  },
  {
   "cell_type": "code",
   "execution_count": 146,
   "metadata": {},
   "outputs": [
    {
     "data": {
      "text/html": [
       "<div>\n",
       "<style scoped>\n",
       "    .dataframe tbody tr th:only-of-type {\n",
       "        vertical-align: middle;\n",
       "    }\n",
       "\n",
       "    .dataframe tbody tr th {\n",
       "        vertical-align: top;\n",
       "    }\n",
       "\n",
       "    .dataframe thead th {\n",
       "        text-align: right;\n",
       "    }\n",
       "</style>\n",
       "<table border=\"1\" class=\"dataframe\">\n",
       "  <thead>\n",
       "    <tr style=\"text-align: right;\">\n",
       "      <th></th>\n",
       "      <th>q1</th>\n",
       "      <th>q2</th>\n",
       "    </tr>\n",
       "  </thead>\n",
       "  <tbody>\n",
       "    <tr>\n",
       "      <th>0</th>\n",
       "      <td>W17342 W06766 W04049 W16319 W07863</td>\n",
       "      <td>W11668 W17378 W11399 W14113</td>\n",
       "    </tr>\n",
       "  </tbody>\n",
       "</table>\n",
       "</div>"
      ],
      "text/plain": [
       "                                   q1                           q2\n",
       "0  W17342 W06766 W04049 W16319 W07863  W11668 W17378 W11399 W14113"
      ]
     },
     "execution_count": 146,
     "metadata": {},
     "output_type": "execute_result"
    }
   ],
   "source": [
    "test.head(1)"
   ]
  },
  {
   "cell_type": "code",
   "execution_count": 183,
   "metadata": {},
   "outputs": [],
   "source": [
    "word = word_embed[0]\n",
    "word_to_index = dict([(word[i],i+1) for i in range(len(word))])\n",
    "index_to_word = dict([(i+1, word[i]) for i in range(len(word))])\n",
    "# print(word_to_index)\n",
    "# print(index_to_word)"
   ]
  },
  {
   "cell_type": "code",
   "execution_count": 191,
   "metadata": {},
   "outputs": [],
   "source": [
    "# word_to_index"
   ]
  },
  {
   "cell_type": "code",
   "execution_count": 185,
   "metadata": {},
   "outputs": [],
   "source": [
    "train_q1 = train.q1.values\n",
    "train_q2 = train.q2.values\n",
    "test_q1 = test.q1.values\n",
    "test_q2 = test.q2.values\n",
    "train_shape_q1 = train_q1.shape[0]\n",
    "train_shape_q2 = train_q2.shape[0]\n",
    "test_shape_q1 = test_q1.shape[0]\n",
    "test_shape_q2 = test_q2.shape[0]\n",
    "max_len = 20\n",
    "embed_dim = 300"
   ]
  },
  {
   "cell_type": "code",
   "execution_count": 186,
   "metadata": {},
   "outputs": [],
   "source": [
    "train_q1_indices = np.zeros((train_shape_q1,max_len))\n",
    "for i in range(train_shape_q1):\n",
    "    sentence_words_q1 = train_q1[i].split(' ')\n",
    "    for j,w in enumerate(sentence_words_q1):\n",
    "        if j >= max_len:\n",
    "            break\n",
    "        train_q1_indices[i, j] = word_to_index[w]"
   ]
  },
  {
   "cell_type": "code",
   "execution_count": 187,
   "metadata": {},
   "outputs": [],
   "source": [
    "train_q2_indices = np.zeros((train_shape_q2,max_len))\n",
    "for i in range(train_shape_q2):\n",
    "    sentence_words_q2 = train_q2[i].split(' ')\n",
    "    for j,w in enumerate(sentence_words_q2):\n",
    "        if j >= max_len:\n",
    "            break\n",
    "        train_q2_indices[i, j] = word_to_index[w]"
   ]
  },
  {
   "cell_type": "code",
   "execution_count": 188,
   "metadata": {},
   "outputs": [],
   "source": [
    "test_q1_indices = np.zeros((test_shape_q1,max_len))\n",
    "for i in range(test_shape_q1):\n",
    "    sentence_words_q1 = test_q1[i].split(' ')\n",
    "    for j,w in enumerate(sentence_words_q1):\n",
    "        if j >= max_len:\n",
    "            break\n",
    "        test_q1_indices[i, j] = word_to_index[w]"
   ]
  },
  {
   "cell_type": "code",
   "execution_count": 189,
   "metadata": {},
   "outputs": [],
   "source": [
    "test_q2_indices = np.zeros((test_shape_q2,max_len))\n",
    "for i in range(test_shape_q2):\n",
    "    sentence_words_q2 = test_q2[i].split(' ')\n",
    "    for j,w in enumerate(sentence_words_q2):\n",
    "        if j >= max_len:\n",
    "            break\n",
    "        test_q2_indices[i, j] = word_to_index[w]"
   ]
  },
  {
   "cell_type": "code",
   "execution_count": 192,
   "metadata": {},
   "outputs": [
    {
     "data": {
      "text/plain": [
       "array(['W04465 W04058 W05284 W02916', 'W10054 W04476 W09996 W12244 W18103',\n",
       "       'W04346 W17378 W19355 W17926 W14185 W11567 W07863', ...,\n",
       "       'W05733 W14113 W03390 W19662 W18238 W03746',\n",
       "       'W15481 W00997 W19355 W18804 W00564 W10938 W18103',\n",
       "       'W00173 W14295 W17629 W11399 W16319 W18103'], dtype=object)"
      ]
     },
     "execution_count": 192,
     "metadata": {},
     "output_type": "execute_result"
    }
   ],
   "source": [
    "train_q1"
   ]
  },
  {
   "cell_type": "code",
   "execution_count": 193,
   "metadata": {
    "scrolled": true
   },
   "outputs": [
    {
     "data": {
      "text/plain": [
       "array([[  4466.,   4059.,   5285., ...,      0.,      0.,      0.],\n",
       "       [ 10055.,   4477.,   9997., ...,      0.,      0.,      0.],\n",
       "       [  4347.,  17379.,  19356., ...,      0.,      0.,      0.],\n",
       "       ..., \n",
       "       [  5734.,  14114.,   3391., ...,      0.,      0.,      0.],\n",
       "       [ 15482.,    998.,  19356., ...,      0.,      0.,      0.],\n",
       "       [   174.,  14296.,  17630., ...,      0.,      0.,      0.]])"
      ]
     },
     "execution_count": 193,
     "metadata": {},
     "output_type": "execute_result"
    }
   ],
   "source": [
    "train_q1_indices"
   ]
  },
  {
   "cell_type": "code",
   "execution_count": 133,
   "metadata": {},
   "outputs": [],
   "source": [
    "# embed_matrix = np.zeros((len(word_to_index)+1, embed_dim))\n",
    "# for word, index in word_to_index.items():\n",
    "#     embed_matrix[index, :] = word_embed.index.values"
   ]
  },
  {
   "cell_type": "code",
   "execution_count": 134,
   "metadata": {},
   "outputs": [
    {
     "name": "stdout",
     "output_type": "stream",
     "text": [
      "[ 4465.  4058.  5284.  2916.     0.     0.     0.     0.     0.     0.\n",
      "     0.     0.     0.     0.     0.     0.     0.     0.     0.     0.]\n",
      "[ 18238.  18843.   1490.   9905.      0.      0.      0.      0.      0.\n",
      "      0.      0.      0.      0.      0.      0.      0.      0.      0.\n",
      "      0.      0.]\n"
     ]
    }
   ],
   "source": [
    "# print(q1_indices[0])\n",
    "# print(q2_indices[0])\n",
    "# print(embed_matrix[0])"
   ]
  },
  {
   "cell_type": "code",
   "execution_count": null,
   "metadata": {},
   "outputs": [],
   "source": []
  }
 ],
 "metadata": {
  "kernelspec": {
   "display_name": "Python 3",
   "language": "python",
   "name": "python3"
  },
  "language_info": {
   "codemirror_mode": {
    "name": "ipython",
    "version": 3
   },
   "file_extension": ".py",
   "mimetype": "text/x-python",
   "name": "python",
   "nbconvert_exporter": "python",
   "pygments_lexer": "ipython3",
   "version": "3.6.5"
  }
 },
 "nbformat": 4,
 "nbformat_minor": 2
}
